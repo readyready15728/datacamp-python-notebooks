{
 "cells": [
  {
   "cell_type": "markdown",
   "id": "8f7f0b87-3783-41bd-b1b7-1629eeae6017",
   "metadata": {},
   "source": [
    "# Data Manipulation with pandas"
   ]
  },
  {
   "cell_type": "code",
   "execution_count": null,
   "id": "9726acb2-e6bf-423d-b808-efb94a5951d7",
   "metadata": {},
   "outputs": [],
   "source": [
    "# Setup header\n",
    "\n",
    "homelessness = pd.read_csv('homelessness.csv', index_col=0)"
   ]
  },
  {
   "cell_type": "markdown",
   "id": "e3cbbf3c-c88e-4b8b-b77b-eb523e492904",
   "metadata": {},
   "source": [
    "## Inspecting a `DataFrame`"
   ]
  },
  {
   "cell_type": "markdown",
   "id": "1ed72a3b-d0ca-40bf-a863-2209841ff799",
   "metadata": {},
   "source": [
    "Here are a few ways to summarize pandas `DataFrame`s. `.head()` gives a quick rundown of what the `DataFrame` looks like without any attempt at summarizing the data:"
   ]
  },
  {
   "cell_type": "code",
   "execution_count": null,
   "id": "3e3318e5-ff58-42cb-bb54-dfa10b2704f8",
   "metadata": {},
   "outputs": [],
   "source": [
    "homelessness.head()"
   ]
  },
  {
   "cell_type": "markdown",
   "id": "348aa4e0-3ef0-4b58-b243-2c111547593e",
   "metadata": {},
   "source": [
    "`.info()` will show the type of each column and give the user an idea of how many missing values there are:"
   ]
  },
  {
   "cell_type": "code",
   "execution_count": null,
   "id": "b1018bab-e7dc-42e2-bf09-77e3591eb483",
   "metadata": {},
   "outputs": [],
   "source": [
    "homelessness.info()"
   ]
  },
  {
   "cell_type": "markdown",
   "id": "5ed8a4c3-23f7-418a-8bf4-406b92999c7f",
   "metadata": {},
   "source": [
    "`.shape` is a tuple with the number of rows and columns in the `DataFrame`. Note that `.shape` is an attribute rather than a method:"
   ]
  },
  {
   "cell_type": "code",
   "execution_count": null,
   "id": "5f1205bd-d2c8-495f-9c76-a2a15b9732a9",
   "metadata": {},
   "outputs": [],
   "source": [
    "homelessness.shape"
   ]
  },
  {
   "cell_type": "markdown",
   "id": "cf98f3ae-d45a-49d7-adb0-2bc54e3bf94c",
   "metadata": {},
   "source": [
    "Lastly `.describe()` gives summary statistics of the *numerical* columns:"
   ]
  },
  {
   "cell_type": "code",
   "execution_count": null,
   "id": "28a778c5-ffe2-4fa7-a442-42a900d2c091",
   "metadata": {},
   "outputs": [],
   "source": [
    "homelessness.describe()"
   ]
  }
 ],
 "metadata": {
  "kernelspec": {
   "display_name": "Python 3 (ipykernel)",
   "language": "python",
   "name": "python3"
  },
  "language_info": {
   "codemirror_mode": {
    "name": "ipython",
    "version": 3
   },
   "file_extension": ".py",
   "mimetype": "text/x-python",
   "name": "python",
   "nbconvert_exporter": "python",
   "pygments_lexer": "ipython3",
   "version": "3.10.12"
  }
 },
 "nbformat": 4,
 "nbformat_minor": 5
}
