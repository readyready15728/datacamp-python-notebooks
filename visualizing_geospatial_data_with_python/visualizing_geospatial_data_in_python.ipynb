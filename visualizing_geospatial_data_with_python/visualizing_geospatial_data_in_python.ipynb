{
 "cells": [
  {
   "cell_type": "markdown",
   "id": "686af24c-dc27-4678-a04e-7e858cd48a64",
   "metadata": {},
   "source": [
    "# Visualizing Geospatial Data with Python"
   ]
  },
  {
   "cell_type": "markdown",
   "id": "9468a43e-b0f8-4dce-bb66-4297988bb964",
   "metadata": {},
   "source": [
    "## Building 2-Layer Maps : Combining Polygons and Scatterplot"
   ]
  },
  {
   "cell_type": "markdown",
   "id": "bdab8a8a-73d6-4664-9362-7a377d4a6c48",
   "metadata": {},
   "source": [
    "### Styling a scatterplot"
   ]
  },
  {
   "cell_type": "markdown",
   "id": "09d75eae-e2d0-4c55-af14-efd8c7124001",
   "metadata": {},
   "source": [
    "```python\n",
    "# Import matplotlib.pyplot\n",
    "import matplotlib.pyplot as plt\n",
    "\n",
    "# Scatterplot 1 - father heights vs. son heights with darkred square markers\n",
    "plt.scatter(father_son.fheight, father_son.sheight, c = 'darkred', marker = 's')\n",
    "\n",
    "# Show your plot\n",
    "plt.show()\n",
    "```"
   ]
  },
  {
   "cell_type": "markdown",
   "id": "54553668-40bd-4736-b5ed-ed85a34aba22",
   "metadata": {},
   "source": [
    "```python\n",
    "# Import matplotlib.pyplot\n",
    "import matplotlib.pyplot as plt\n",
    "\n",
    "# Scatterplot 2 - yellow markers with darkblue borders\n",
    "plt.scatter(father_son.fheight, father_son.sheight, c = 'yellow', edgecolor = 'darkblue')\n",
    "\n",
    "# Show the plot\n",
    "plt.show()\n",
    "```"
   ]
  },
  {
   "cell_type": "markdown",
   "id": "8f117f68-fad6-4706-903e-b2fd0b97277c",
   "metadata": {},
   "source": [
    "```python\n",
    "# Import matplotlib.pyplot\n",
    "import matplotlib.pyplot as plt\n",
    "\n",
    "# Scatterplot 3\n",
    "plt.scatter(father_son.fheight, father_son.sheight,  c = 'yellow', edgecolor = 'darkblue')\n",
    "plt.grid()\n",
    "plt.xlabel('father height (inches)')\n",
    "plt.ylabel('son height (inches)')\n",
    "plt.title('Son Height as a Function of Father Height')\n",
    "\n",
    "# Show your plot\n",
    "plt.show()\n",
    "```"
   ]
  },
  {
   "cell_type": "markdown",
   "id": "6fa15c7d-60d0-41f5-99f9-37228beefeb4",
   "metadata": {},
   "source": [
    "### Extracting longitude and latitude"
   ]
  },
  {
   "cell_type": "markdown",
   "id": "44c281c2-ac60-46be-afeb-03b0df964f10",
   "metadata": {},
   "source": [
    "```python\n",
    "# print the first few rows of df \n",
    "print(df.head())\n",
    "\n",
    "# extract latitude to a new column: lat\n",
    "df['lat'] = [loc[0] for loc in df.Location]\n",
    "\n",
    "# extract longitude to a new column: lng\n",
    "df['lng'] = [loc[1] for loc in df.Location]\n",
    "\n",
    "# print the first few rows of df again\n",
    "print(df.head())\n",
    "```"
   ]
  },
  {
   "cell_type": "markdown",
   "id": "3ac0ef89-959e-4b71-8072-f422bf7a50af",
   "metadata": {},
   "source": [
    "### Plotting chicken locations"
   ]
  },
  {
   "cell_type": "markdown",
   "id": "142f8b7f-787a-416a-b860-5a1936080de1",
   "metadata": {},
   "source": [
    "```python\n",
    "# Import pandas and matplotlib.pyplot using their customary aliases\n",
    "import pandas as pd\n",
    "import matplotlib.pyplot as plt\n",
    "\n",
    "# Load the dataset\n",
    "chickens = pd.read_csv(chickens_path)\n",
    "\n",
    "# Look at the first few rows of the chickens DataFrame\n",
    "print(chickens.head())\n",
    "\n",
    "# Plot the locations of all Nashville chicken permits\n",
    "plt.scatter(x = chickens.lng, y = chickens.lat)\n",
    "\n",
    "# Show the plot\n",
    "plt.show()\n",
    "```"
   ]
  },
  {
   "cell_type": "code",
   "execution_count": null,
   "id": "6c9931ce-19eb-4e59-a24a-66c8544e1f8a",
   "metadata": {},
   "outputs": [],
   "source": []
  }
 ],
 "metadata": {
  "kernelspec": {
   "display_name": "Python 3 (ipykernel)",
   "language": "python",
   "name": "python3"
  },
  "language_info": {
   "codemirror_mode": {
    "name": "ipython",
    "version": 3
   },
   "file_extension": ".py",
   "mimetype": "text/x-python",
   "name": "python",
   "nbconvert_exporter": "python",
   "pygments_lexer": "ipython3",
   "version": "3.10.12"
  }
 },
 "nbformat": 4,
 "nbformat_minor": 5
}
